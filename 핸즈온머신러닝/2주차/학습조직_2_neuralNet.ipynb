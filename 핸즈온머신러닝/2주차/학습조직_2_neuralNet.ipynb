{
  "nbformat": 4,
  "nbformat_minor": 0,
  "metadata": {
    "colab": {
      "name": "학습조직#2_neuralNet.ipynb",
      "provenance": []
    },
    "kernelspec": {
      "name": "python3",
      "display_name": "Python 3"
    },
    "language_info": {
      "name": "python"
    }
  },
  "cells": [
    {
      "cell_type": "code",
      "metadata": {
        "id": "m_oBT2P2HzER"
      },
      "source": [
        "import tensorflow as tf\n",
        "from tensorflow import keras"
      ],
      "execution_count": 1,
      "outputs": []
    },
    {
      "cell_type": "code",
      "metadata": {
        "colab": {
          "base_uri": "https://localhost:8080/"
        },
        "id": "LT1SWSOiH6sK",
        "outputId": "02a54670-8d01-4b22-e1de-2ce59ddd3029"
      },
      "source": [
        "print(tf.__version__)\n",
        "print(keras.__version__)"
      ],
      "execution_count": 3,
      "outputs": [
        {
          "output_type": "stream",
          "text": [
            "2.4.1\n",
            "2.4.0\n"
          ],
          "name": "stdout"
        }
      ]
    },
    {
      "cell_type": "code",
      "metadata": {
        "colab": {
          "base_uri": "https://localhost:8080/"
        },
        "id": "aseKtVReH95M",
        "outputId": "2f52249b-5727-476a-f7ec-458be8e6db71"
      },
      "source": [
        "fashion_mnist = keras.datasets.fashion_mnist\n",
        "(X_train_full, y_train_full), (X_test, y_test) = fashion_mnist.load_data()"
      ],
      "execution_count": 4,
      "outputs": [
        {
          "output_type": "stream",
          "text": [
            "Downloading data from https://storage.googleapis.com/tensorflow/tf-keras-datasets/train-labels-idx1-ubyte.gz\n",
            "32768/29515 [=================================] - 0s 0us/step\n",
            "Downloading data from https://storage.googleapis.com/tensorflow/tf-keras-datasets/train-images-idx3-ubyte.gz\n",
            "26427392/26421880 [==============================] - 0s 0us/step\n",
            "Downloading data from https://storage.googleapis.com/tensorflow/tf-keras-datasets/t10k-labels-idx1-ubyte.gz\n",
            "8192/5148 [===============================================] - 0s 0us/step\n",
            "Downloading data from https://storage.googleapis.com/tensorflow/tf-keras-datasets/t10k-images-idx3-ubyte.gz\n",
            "4423680/4422102 [==============================] - 0s 0us/step\n"
          ],
          "name": "stdout"
        }
      ]
    },
    {
      "cell_type": "code",
      "metadata": {
        "colab": {
          "base_uri": "https://localhost:8080/"
        },
        "id": "M5gF7grtIS_V",
        "outputId": "ef24d0f3-037b-4956-e4a8-e9c1ef1d3083"
      },
      "source": [
        "print(X_train_full.shape)\n",
        "print(X_train_full.dtype)"
      ],
      "execution_count": 5,
      "outputs": [
        {
          "output_type": "stream",
          "text": [
            "(60000, 28, 28)\n",
            "uint8\n"
          ],
          "name": "stdout"
        }
      ]
    },
    {
      "cell_type": "code",
      "metadata": {
        "id": "L5WXL7O4IZAr"
      },
      "source": [
        "X_valid, X_train = X_train_full[:5000]/255.0, X_train_full[5000:]/255.0\n",
        "y_valid, y_train = y_train_full[:5000], y_train_full[5000:]\n",
        "X_test = X_test/255.0"
      ],
      "execution_count": 6,
      "outputs": []
    },
    {
      "cell_type": "code",
      "metadata": {
        "id": "c59u8q-bIwyy"
      },
      "source": [
        "class_names = [\"T-shirt/top\", \"Trouser\", \"Pullover\", \"Dress\", \"Coat\", \"Sandal\", \"Shirt\", \"Sneaker\", \"Bag\", \"Ankle boot\"]"
      ],
      "execution_count": 9,
      "outputs": []
    },
    {
      "cell_type": "code",
      "metadata": {
        "colab": {
          "base_uri": "https://localhost:8080/",
          "height": 35
        },
        "id": "B_Oi1cVMI_vQ",
        "outputId": "6de0a899-12a7-46e7-d561-8ee0aabf3c46"
      },
      "source": [
        "class_names[y_train[0]]"
      ],
      "execution_count": 10,
      "outputs": [
        {
          "output_type": "execute_result",
          "data": {
            "application/vnd.google.colaboratory.intrinsic+json": {
              "type": "string"
            },
            "text/plain": [
              "'Coat'"
            ]
          },
          "metadata": {
            "tags": []
          },
          "execution_count": 10
        }
      ]
    },
    {
      "cell_type": "code",
      "metadata": {
        "id": "01X-Xp_HJCW1"
      },
      "source": [
        "model1 = keras.models.Sequential()\n",
        "model1.add(keras.layers.Flatten(input_shape=[28,28]))\n",
        "model1.add(keras.layers.Dense(300, activation=\"relu\")) # neurun 300\n",
        "model1.add(keras.layers.Dense(100, activation=\"relu\"))\n",
        "model1.add(keras.layers.Dense(10, activation=\"softmax\"))"
      ],
      "execution_count": 11,
      "outputs": []
    },
    {
      "cell_type": "code",
      "metadata": {
        "colab": {
          "base_uri": "https://localhost:8080/"
        },
        "id": "gkbmVxr0JsyH",
        "outputId": "27b83b93-9e95-4ada-fe1b-882f09c83e73"
      },
      "source": [
        "model1.summary()"
      ],
      "execution_count": 13,
      "outputs": [
        {
          "output_type": "stream",
          "text": [
            "Model: \"sequential\"\n",
            "_________________________________________________________________\n",
            "Layer (type)                 Output Shape              Param #   \n",
            "=================================================================\n",
            "flatten (Flatten)            (None, 784)               0         \n",
            "_________________________________________________________________\n",
            "dense (Dense)                (None, 300)               235500    \n",
            "_________________________________________________________________\n",
            "dense_1 (Dense)              (None, 100)               30100     \n",
            "_________________________________________________________________\n",
            "dense_2 (Dense)              (None, 10)                1010      \n",
            "=================================================================\n",
            "Total params: 266,610\n",
            "Trainable params: 266,610\n",
            "Non-trainable params: 0\n",
            "_________________________________________________________________\n"
          ],
          "name": "stdout"
        }
      ]
    },
    {
      "cell_type": "code",
      "metadata": {
        "id": "MHDvhrqyJuGQ"
      },
      "source": [
        "model1.compile(loss=\"sparse_categorical_crossentropy\",\n",
        "              optimizer=\"sgd\",\n",
        "              metrics=[\"accuracy\"])"
      ],
      "execution_count": 15,
      "outputs": []
    },
    {
      "cell_type": "code",
      "metadata": {
        "colab": {
          "base_uri": "https://localhost:8080/"
        },
        "id": "wUV631CgKCnD",
        "outputId": "2f6234d0-9f95-47e5-abf4-ff92a5d49362"
      },
      "source": [
        "hist = model1.fit(X_train, y_train, epochs=30, validation_data=(X_valid, y_valid))"
      ],
      "execution_count": 17,
      "outputs": [
        {
          "output_type": "stream",
          "text": [
            "Epoch 1/30\n",
            "1719/1719 [==============================] - 5s 2ms/step - loss: 1.0004 - accuracy: 0.6789 - val_loss: 0.5267 - val_accuracy: 0.8214\n",
            "Epoch 2/30\n",
            "1719/1719 [==============================] - 4s 2ms/step - loss: 0.5048 - accuracy: 0.8254 - val_loss: 0.4420 - val_accuracy: 0.8522\n",
            "Epoch 3/30\n",
            "1719/1719 [==============================] - 4s 2ms/step - loss: 0.4557 - accuracy: 0.8440 - val_loss: 0.4097 - val_accuracy: 0.8592\n",
            "Epoch 4/30\n",
            "1719/1719 [==============================] - 4s 2ms/step - loss: 0.4202 - accuracy: 0.8526 - val_loss: 0.4004 - val_accuracy: 0.8624\n",
            "Epoch 5/30\n",
            "1719/1719 [==============================] - 4s 2ms/step - loss: 0.4053 - accuracy: 0.8575 - val_loss: 0.3986 - val_accuracy: 0.8600\n",
            "Epoch 6/30\n",
            "1719/1719 [==============================] - 4s 2ms/step - loss: 0.3861 - accuracy: 0.8631 - val_loss: 0.3943 - val_accuracy: 0.8620\n",
            "Epoch 7/30\n",
            "1719/1719 [==============================] - 4s 2ms/step - loss: 0.3701 - accuracy: 0.8697 - val_loss: 0.3675 - val_accuracy: 0.8720\n",
            "Epoch 8/30\n",
            "1719/1719 [==============================] - 4s 2ms/step - loss: 0.3589 - accuracy: 0.8733 - val_loss: 0.3653 - val_accuracy: 0.8714\n",
            "Epoch 9/30\n",
            "1719/1719 [==============================] - 4s 2ms/step - loss: 0.3470 - accuracy: 0.8781 - val_loss: 0.3631 - val_accuracy: 0.8694\n",
            "Epoch 10/30\n",
            "1719/1719 [==============================] - 4s 2ms/step - loss: 0.3363 - accuracy: 0.8788 - val_loss: 0.3440 - val_accuracy: 0.8792\n",
            "Epoch 11/30\n",
            "1719/1719 [==============================] - 4s 2ms/step - loss: 0.3325 - accuracy: 0.8819 - val_loss: 0.3530 - val_accuracy: 0.8736\n",
            "Epoch 12/30\n",
            "1719/1719 [==============================] - 4s 2ms/step - loss: 0.3192 - accuracy: 0.8862 - val_loss: 0.3480 - val_accuracy: 0.8766\n",
            "Epoch 13/30\n",
            "1719/1719 [==============================] - 4s 2ms/step - loss: 0.3180 - accuracy: 0.8843 - val_loss: 0.3313 - val_accuracy: 0.8798\n",
            "Epoch 14/30\n",
            "1719/1719 [==============================] - 4s 2ms/step - loss: 0.3020 - accuracy: 0.8940 - val_loss: 0.3192 - val_accuracy: 0.8852\n",
            "Epoch 15/30\n",
            "1719/1719 [==============================] - 4s 2ms/step - loss: 0.3047 - accuracy: 0.8903 - val_loss: 0.3209 - val_accuracy: 0.8838\n",
            "Epoch 16/30\n",
            "1719/1719 [==============================] - 4s 2ms/step - loss: 0.2938 - accuracy: 0.8949 - val_loss: 0.3292 - val_accuracy: 0.8816\n",
            "Epoch 17/30\n",
            "1719/1719 [==============================] - 4s 2ms/step - loss: 0.2885 - accuracy: 0.8983 - val_loss: 0.3203 - val_accuracy: 0.8880\n",
            "Epoch 18/30\n",
            "1719/1719 [==============================] - 4s 2ms/step - loss: 0.2801 - accuracy: 0.8994 - val_loss: 0.3170 - val_accuracy: 0.8850\n",
            "Epoch 19/30\n",
            "1719/1719 [==============================] - 4s 2ms/step - loss: 0.2742 - accuracy: 0.9030 - val_loss: 0.3162 - val_accuracy: 0.8860\n",
            "Epoch 20/30\n",
            "1719/1719 [==============================] - 4s 2ms/step - loss: 0.2663 - accuracy: 0.9051 - val_loss: 0.3080 - val_accuracy: 0.8926\n",
            "Epoch 21/30\n",
            "1719/1719 [==============================] - 4s 2ms/step - loss: 0.2652 - accuracy: 0.9052 - val_loss: 0.3247 - val_accuracy: 0.8844\n",
            "Epoch 22/30\n",
            "1719/1719 [==============================] - 4s 2ms/step - loss: 0.2638 - accuracy: 0.9050 - val_loss: 0.3037 - val_accuracy: 0.8926\n",
            "Epoch 23/30\n",
            "1719/1719 [==============================] - 4s 2ms/step - loss: 0.2578 - accuracy: 0.9055 - val_loss: 0.3076 - val_accuracy: 0.8912\n",
            "Epoch 24/30\n",
            "1719/1719 [==============================] - 4s 2ms/step - loss: 0.2482 - accuracy: 0.9092 - val_loss: 0.3046 - val_accuracy: 0.8908\n",
            "Epoch 25/30\n",
            "1719/1719 [==============================] - 4s 2ms/step - loss: 0.2428 - accuracy: 0.9124 - val_loss: 0.3023 - val_accuracy: 0.8890\n",
            "Epoch 26/30\n",
            "1719/1719 [==============================] - 4s 2ms/step - loss: 0.2438 - accuracy: 0.9126 - val_loss: 0.3048 - val_accuracy: 0.8930\n",
            "Epoch 27/30\n",
            "1719/1719 [==============================] - 4s 2ms/step - loss: 0.2345 - accuracy: 0.9156 - val_loss: 0.3056 - val_accuracy: 0.8888\n",
            "Epoch 28/30\n",
            "1719/1719 [==============================] - 4s 2ms/step - loss: 0.2317 - accuracy: 0.9172 - val_loss: 0.3040 - val_accuracy: 0.8898\n",
            "Epoch 29/30\n",
            "1719/1719 [==============================] - 4s 2ms/step - loss: 0.2311 - accuracy: 0.9174 - val_loss: 0.3168 - val_accuracy: 0.8860\n",
            "Epoch 30/30\n",
            "1719/1719 [==============================] - 4s 2ms/step - loss: 0.2305 - accuracy: 0.9169 - val_loss: 0.2957 - val_accuracy: 0.8948\n"
          ],
          "name": "stdout"
        }
      ]
    },
    {
      "cell_type": "code",
      "metadata": {
        "id": "zbJkvMoXKTO9"
      },
      "source": [
        "import pandas as pd\n",
        "import matplotlib.pyplot as plt\n",
        "import numpy as np"
      ],
      "execution_count": 29,
      "outputs": []
    },
    {
      "cell_type": "code",
      "metadata": {
        "colab": {
          "base_uri": "https://localhost:8080/",
          "height": 324
        },
        "id": "mfN-TA7JKhLn",
        "outputId": "19220290-5c80-4b4b-9c33-0b410a5971e0"
      },
      "source": [
        "pd.DataFrame(hist.history).plot(figsize=(8,5))\n",
        "plt.grid(True)\n",
        "plt.gca().set_ylim(0,1)\n",
        "plt.show()"
      ],
      "execution_count": 24,
      "outputs": [
        {
          "output_type": "display_data",
          "data": {
            "image/png": "[encoded data removed]",
            "text/plain": [
              "<Figure size 576x360 with 1 Axes>"
            ]
          },
          "metadata": {
            "tags": [],
            "needs_background": "light"
          }
        }
      ]
    },
    {
      "cell_type": "code",
      "metadata": {
        "colab": {
          "base_uri": "https://localhost:8080/"
        },
        "id": "evEOKazlKsBC",
        "outputId": "6cff633b-6b5b-410f-a413-3926c2c6603b"
      },
      "source": [
        "model1.evaluate(X_test, y_test)"
      ],
      "execution_count": 25,
      "outputs": [
        {
          "output_type": "stream",
          "text": [
            "313/313 [==============================] - 0s 1ms/step - loss: 0.3235 - accuracy: 0.8847\n"
          ],
          "name": "stdout"
        },
        {
          "output_type": "execute_result",
          "data": {
            "text/plain": [
              "[0.32349368929862976, 0.8847000002861023]"
            ]
          },
          "metadata": {
            "tags": []
          },
          "execution_count": 25
        }
      ]
    },
    {
      "cell_type": "code",
      "metadata": {
        "colab": {
          "base_uri": "https://localhost:8080/"
        },
        "id": "CEMnEBUALFHc",
        "outputId": "6acb7a10-10d6-4588-e819-7433a45001c1"
      },
      "source": [
        "X_new = X_test[:3]\n",
        "y_proba = model1.predict(X_new)\n",
        "y_proba.round(2)"
      ],
      "execution_count": 27,
      "outputs": [
        {
          "output_type": "execute_result",
          "data": {
            "text/plain": [
              "array([[0.  , 0.  , 0.  , 0.  , 0.  , 0.01, 0.  , 0.02, 0.  , 0.98],\n",
              "       [0.  , 0.  , 1.  , 0.  , 0.  , 0.  , 0.  , 0.  , 0.  , 0.  ],\n",
              "       [0.  , 1.  , 0.  , 0.  , 0.  , 0.  , 0.  , 0.  , 0.  , 0.  ]],\n",
              "      dtype=float32)"
            ]
          },
          "metadata": {
            "tags": []
          },
          "execution_count": 27
        }
      ]
    },
    {
      "cell_type": "code",
      "metadata": {
        "colab": {
          "base_uri": "https://localhost:8080/"
        },
        "id": "9BoKG39VLNvw",
        "outputId": "b014f2e6-3322-4e72-9c4a-0eaefae0dca6"
      },
      "source": [
        "y_pred = model1.predict_classes(X_new)\n",
        "np.array(class_names)[y_pred]"
      ],
      "execution_count": 30,
      "outputs": [
        {
          "output_type": "stream",
          "text": [
            "/usr/local/lib/python3.7/dist-packages/tensorflow/python/keras/engine/sequential.py:450: UserWarning: `model.predict_classes()` is deprecated and will be removed after 2021-01-01. Please use instead:* `np.argmax(model.predict(x), axis=-1)`,   if your model does multi-class classification   (e.g. if it uses a `softmax` last-layer activation).* `(model.predict(x) > 0.5).astype(\"int32\")`,   if your model does binary classification   (e.g. if it uses a `sigmoid` last-layer activation).\n",
            "  warnings.warn('`model.predict_classes()` is deprecated and '\n"
          ],
          "name": "stderr"
        },
        {
          "output_type": "execute_result",
          "data": {
            "text/plain": [
              "array(['Ankle boot', 'Pullover', 'Trouser'], dtype='<U11')"
            ]
          },
          "metadata": {
            "tags": []
          },
          "execution_count": 30
        }
      ]
    },
    {
      "cell_type": "code",
      "metadata": {
        "id": "2DQVVkC9LkuF"
      },
      "source": [
        "# keras wide depp learning\n",
        "input_ = keras.layers.Input(shape=X_train.shape[1:])\n",
        "hidden1 = keras.layers.Dense(30, activation=\"relu\")(input_)\n",
        "hidden2 = keras.layers.Dense(30, activation=\"relu\")(hidden1)\n",
        "concat = keras.layers.Concatenate()([input_, hidden2])\n",
        "output = keras.layers.Dense(1)(concat)\n",
        "model = keras.Model(inputs=[input_], outputs=[output])"
      ],
      "execution_count": 33,
      "outputs": []
    },
    {
      "cell_type": "code",
      "metadata": {
        "id": "rkwwmGaKeTzD"
      },
      "source": [
        "model.compile(loss=\"sparse_categorical_crossentropy\",\n",
        "              optimizer=\"sgd\",\n",
        "              metrics=[\"accuracy\"])"
      ],
      "execution_count": 34,
      "outputs": []
    },
    {
      "cell_type": "code",
      "metadata": {
        "colab": {
          "base_uri": "https://localhost:8080/"
        },
        "id": "iiIabkvweoTQ",
        "outputId": "6dc1f714-a8ec-4e99-c206-d34c8bb9fa23"
      },
      "source": [
        "hist = model.fit(X_train, y_train, epochs=30, validation_data=(X_valid, y_valid))"
      ],
      "execution_count": 35,
      "outputs": [
        {
          "output_type": "stream",
          "text": [
            "Epoch 1/30\n",
            "1719/1719 [==============================] - 4s 2ms/step - loss: 3.3488 - accuracy: 0.1020 - val_loss: 3.3322 - val_accuracy: 0.0914\n",
            "Epoch 2/30\n",
            "1719/1719 [==============================] - 3s 2ms/step - loss: 3.3326 - accuracy: 0.1013 - val_loss: 3.3322 - val_accuracy: 0.0914\n",
            "Epoch 3/30\n",
            "1719/1719 [==============================] - 3s 2ms/step - loss: 3.3322 - accuracy: 0.0976 - val_loss: 3.3322 - val_accuracy: 0.0914\n",
            "Epoch 4/30\n",
            "1719/1719 [==============================] - 3s 2ms/step - loss: 3.3322 - accuracy: 0.1017 - val_loss: 3.3322 - val_accuracy: 0.0914\n",
            "Epoch 5/30\n",
            "1719/1719 [==============================] - 3s 2ms/step - loss: 3.3322 - accuracy: 0.1015 - val_loss: 3.3322 - val_accuracy: 0.0914\n",
            "Epoch 6/30\n",
            "1719/1719 [==============================] - 3s 2ms/step - loss: 3.3322 - accuracy: 0.1014 - val_loss: 3.3322 - val_accuracy: 0.0914\n",
            "Epoch 7/30\n",
            "1719/1719 [==============================] - 3s 2ms/step - loss: 3.3322 - accuracy: 0.1004 - val_loss: 3.3322 - val_accuracy: 0.0914\n",
            "Epoch 8/30\n",
            "1719/1719 [==============================] - 3s 2ms/step - loss: 3.3322 - accuracy: 0.1001 - val_loss: 3.3322 - val_accuracy: 0.0914\n",
            "Epoch 9/30\n",
            "1719/1719 [==============================] - 3s 2ms/step - loss: 3.3322 - accuracy: 0.0996 - val_loss: 3.3322 - val_accuracy: 0.0914\n",
            "Epoch 10/30\n",
            "1719/1719 [==============================] - 3s 2ms/step - loss: 3.3322 - accuracy: 0.1006 - val_loss: 3.3322 - val_accuracy: 0.0914\n",
            "Epoch 11/30\n",
            "1719/1719 [==============================] - 3s 2ms/step - loss: 3.3322 - accuracy: 0.1014 - val_loss: 3.3322 - val_accuracy: 0.0914\n",
            "Epoch 12/30\n",
            "1719/1719 [==============================] - 3s 2ms/step - loss: 3.3322 - accuracy: 0.1015 - val_loss: 3.3322 - val_accuracy: 0.0914\n",
            "Epoch 13/30\n",
            "1719/1719 [==============================] - 3s 2ms/step - loss: 3.3322 - accuracy: 0.1016 - val_loss: 3.3322 - val_accuracy: 0.0914\n",
            "Epoch 14/30\n",
            "1719/1719 [==============================] - 3s 2ms/step - loss: 3.3322 - accuracy: 0.1027 - val_loss: 3.3322 - val_accuracy: 0.0914\n",
            "Epoch 15/30\n",
            "1719/1719 [==============================] - 3s 2ms/step - loss: 3.3322 - accuracy: 0.1019 - val_loss: 3.3322 - val_accuracy: 0.0914\n",
            "Epoch 16/30\n",
            "1719/1719 [==============================] - 3s 2ms/step - loss: 3.3322 - accuracy: 0.1001 - val_loss: 3.3322 - val_accuracy: 0.0914\n",
            "Epoch 17/30\n",
            "1719/1719 [==============================] - 3s 2ms/step - loss: 3.3322 - accuracy: 0.0998 - val_loss: 3.3322 - val_accuracy: 0.0914\n",
            "Epoch 18/30\n",
            "1719/1719 [==============================] - 3s 2ms/step - loss: 3.3322 - accuracy: 0.0992 - val_loss: 3.3322 - val_accuracy: 0.0914\n",
            "Epoch 19/30\n",
            "1719/1719 [==============================] - 3s 2ms/step - loss: 3.3322 - accuracy: 0.1007 - val_loss: 3.3322 - val_accuracy: 0.0914\n",
            "Epoch 20/30\n",
            "1719/1719 [==============================] - 3s 2ms/step - loss: 3.3322 - accuracy: 0.1021 - val_loss: 3.3322 - val_accuracy: 0.0914\n",
            "Epoch 21/30\n",
            "1719/1719 [==============================] - 3s 2ms/step - loss: 3.3322 - accuracy: 0.1015 - val_loss: 3.3322 - val_accuracy: 0.0914\n",
            "Epoch 22/30\n",
            "1719/1719 [==============================] - 3s 2ms/step - loss: 3.3322 - accuracy: 0.1027 - val_loss: 3.3322 - val_accuracy: 0.0914\n",
            "Epoch 23/30\n",
            "1719/1719 [==============================] - 3s 2ms/step - loss: 3.3322 - accuracy: 0.1013 - val_loss: 3.3322 - val_accuracy: 0.0914\n",
            "Epoch 24/30\n",
            "1719/1719 [==============================] - 3s 2ms/step - loss: 3.3322 - accuracy: 0.1006 - val_loss: 3.3322 - val_accuracy: 0.0914\n",
            "Epoch 25/30\n",
            "1719/1719 [==============================] - 3s 2ms/step - loss: 3.3322 - accuracy: 0.1011 - val_loss: 3.3322 - val_accuracy: 0.0914\n",
            "Epoch 26/30\n",
            "1719/1719 [==============================] - 3s 2ms/step - loss: 3.3322 - accuracy: 0.1015 - val_loss: 3.3322 - val_accuracy: 0.0914\n",
            "Epoch 27/30\n",
            "1719/1719 [==============================] - 3s 2ms/step - loss: 3.3322 - accuracy: 0.1004 - val_loss: 3.3322 - val_accuracy: 0.0914\n",
            "Epoch 28/30\n",
            "1719/1719 [==============================] - 3s 2ms/step - loss: 3.3322 - accuracy: 0.0992 - val_loss: 3.3322 - val_accuracy: 0.0914\n",
            "Epoch 29/30\n",
            "1719/1719 [==============================] - 3s 2ms/step - loss: 3.3322 - accuracy: 0.1003 - val_loss: 3.3322 - val_accuracy: 0.0914\n",
            "Epoch 30/30\n",
            "1719/1719 [==============================] - 3s 2ms/step - loss: 3.3322 - accuracy: 0.0990 - val_loss: 3.3322 - val_accuracy: 0.0914\n"
          ],
          "name": "stdout"
        }
      ]
    },
    {
      "cell_type": "code",
      "metadata": {
        "colab": {
          "base_uri": "https://localhost:8080/",
          "height": 324
        },
        "id": "N2Xxoo-Veq9R",
        "outputId": "f2fbbb09-8fd3-4b4a-fe4b-382c14f6e776"
      },
      "source": [
        "# data를 바궜어야 하는데 안 바꿈. 이런식으로 model을 만들면 된다는 점만 기억하자\n",
        "pd.DataFrame(hist.history).plot(figsize=(8,5))\n",
        "plt.grid(True)\n",
        "plt.gca().set_ylim(0,1)\n",
        "plt.show()"
      ],
      "execution_count": 36,
      "outputs": [
        {
          "output_type": "display_data",
          "data": {
            "image/png": "[encoded data removed]",
            "text/plain": [
              "<Figure size 576x360 with 1 Axes>"
            ]
          },
          "metadata": {
            "tags": [],
            "needs_background": "light"
          }
        }
      ]
    },
    {
      "cell_type": "code",
      "metadata": {
        "id": "dcRsMm5betqN"
      },
      "source": [
        ""
      ],
      "execution_count": null,
      "outputs": []
    }
  ]
}